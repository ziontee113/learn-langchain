{
    "cells": [
        {
            "cell_type": "code",
            "execution_count": 1,
            "metadata": {
                "trusted": true
            },
            "outputs": [],
            "source": "from langchain.llms import Ollama\nfrom langchain.callbacks.manager import CallbackManager\nfrom langchain.callbacks.streaming_stdout import StreamingStdOutCallbackHandler\n\nfrom langchain.prompts import PromptTemplate\nfrom langchain.chains import LLMChain"
        },
        {
            "cell_type": "code",
            "execution_count": 2,
            "metadata": {
                "trusted": true
            },
            "outputs": [],
            "source": "llm = Ollama(\n    model=\"zephyr\",\n    callback_manager=CallbackManager([StreamingStdOutCallbackHandler()]),\n)"
        },
        {
            "cell_type": "code",
            "execution_count": 3,
            "metadata": {
                "trusted": true
            },
            "outputs": [],
            "source": "prompt = PromptTemplate(\n    template=\"Give me 5 interesting facts about {topic}\", input_variables=[\"topic\"]\n)\n\nchain = LLMChain(llm=llm, prompt=prompt, verbose=True)"
        },
        {
            "cell_type": "code",
            "execution_count": 5,
            "metadata": {
                "trusted": true
            },
            "outputs": [
                {
                    "name": "stdout",
                    "output_type": "stream",
                    "text": "\n\n\u001b[1m> Entering new LLMChain chain...\u001b[0m\nPrompt after formatting:\n\u001b[32;1m\u001b[1;3mGive me 5 interesting facts about nudity in movies\u001b[0m\n1. Nudity in Hollywood films is highly regulated: While nudity is becoming more common in mainstream cinema, it's still a sensitive topic that requires careful consideration from filmmakers and studios. The MPAA (Motion Picture Association of America) has strict guidelines regarding nudity and sexual content in movies, and films with excessive or gratuitous nudity may receive an NC-17 rating, which can limit their theatrical release and distribution options.\n\n2. \"Last Tango in Paris\" was a turning point for onscreen nudity: The 1972 film, starring Marlon Brando and Maria Schneider, featured explicit scenes of sexual content and nudity that were unprecedented at the time. The film sparked controversy upon its release and was initially banned in several countries. However, it paved the way for future films to explore more mature themes and depict more graphic content.\n\n3. Nudity can serve a variety of purposes: While nudity is often associated with sex and sensuality, it can also be used to convey other emotions and messages. In some cases, nudity may be used to portray vulnerability or innocence (such as in coming-of-age films), while in others, it may serve a more shocking or confrontational purpose (like in horror movies).\n\n4. The \"Monty Python\" sketch \"Nude Restaurant\" inspired a real-life trend: In the 1973 film \"Monty Python and the Holy Grail,\" there's a scene where King Arthur and his knights stumble upon a restaurant staffed entirely by nude women. This sketch, which was meant to be absurd and humorous, actually sparked a real-life trend in the Netherlands, where a few restaurants did indeed adopt a naked server policy in the 1970s and '80s (although it's unclear whether this was directly inspired by the Python sketch).\n\n5. Nudity in foreign films vs. Hollywood movies: While nudity is still relatively rare in mainstream American films, it's much more common in foreign cinema. European and Asian films, in particular, have a long-standing tradition of depicting graphic sexual content (often as part of more naturalistic or artful approaches to filmmaking). As a result, foreign movies may be able to explore nudity and sexual themes with greater artistic freedom than their Hollywood counterparts.\n\u001b[1m> Finished chain.\u001b[0m\n"
                },
                {
                    "data": {
                        "text/plain": "'1. Nudity in Hollywood films is highly regulated: While nudity is becoming more common in mainstream cinema, it\\'s still a sensitive topic that requires careful consideration from filmmakers and studios. The MPAA (Motion Picture Association of America) has strict guidelines regarding nudity and sexual content in movies, and films with excessive or gratuitous nudity may receive an NC-17 rating, which can limit their theatrical release and distribution options.\\n\\n2. \"Last Tango in Paris\" was a turning point for onscreen nudity: The 1972 film, starring Marlon Brando and Maria Schneider, featured explicit scenes of sexual content and nudity that were unprecedented at the time. The film sparked controversy upon its release and was initially banned in several countries. However, it paved the way for future films to explore more mature themes and depict more graphic content.\\n\\n3. Nudity can serve a variety of purposes: While nudity is often associated with sex and sensuality, it can also be used to convey other emotions and messages. In some cases, nudity may be used to portray vulnerability or innocence (such as in coming-of-age films), while in others, it may serve a more shocking or confrontational purpose (like in horror movies).\\n\\n4. The \"Monty Python\" sketch \"Nude Restaurant\" inspired a real-life trend: In the 1973 film \"Monty Python and the Holy Grail,\" there\\'s a scene where King Arthur and his knights stumble upon a restaurant staffed entirely by nude women. This sketch, which was meant to be absurd and humorous, actually sparked a real-life trend in the Netherlands, where a few restaurants did indeed adopt a naked server policy in the 1970s and \\'80s (although it\\'s unclear whether this was directly inspired by the Python sketch).\\n\\n5. Nudity in foreign films vs. Hollywood movies: While nudity is still relatively rare in mainstream American films, it\\'s much more common in foreign cinema. European and Asian films, in particular, have a long-standing tradition of depicting graphic sexual content (often as part of more naturalistic or artful approaches to filmmaking). As a result, foreign movies may be able to explore nudity and sexual themes with greater artistic freedom than their Hollywood counterparts.'"
                    },
                    "execution_count": 5,
                    "metadata": {},
                    "output_type": "execute_result"
                }
            ],
            "source": "chain.run(\"nudity in movies\")"
        }
    ],
    "metadata": {
        "kernelspec": {
            "display_name": "Poetry",
            "language": "python",
            "name": "poetry-kernel"
        },
        "language_info": {
            "codemirror_mode": {
                "name": "ipython",
                "version": 3
            },
            "file_extension": ".py",
            "mimetype": "text/x-python",
            "name": "python",
            "nbconvert_exporter": "python",
            "pygments_lexer": "ipython3",
            "version": "3.11.3"
        }
    },
    "nbformat": 4,
    "nbformat_minor": 5
}